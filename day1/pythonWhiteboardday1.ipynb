{
 "cells": [
  {
   "cell_type": "markdown",
   "metadata": {},
   "source": [
    "Write a function to print all numbers 1 to n, but there are some constraints\n",
    "If the number is divisible by 3, print ‘Fizz’ instead of the number\n",
    "If the number is divisible 5, print ‘Buzz’ instead of the number\n",
    "If the number is divisible by both 3 and 5, print ‘FizzBuzz’ instead of the number\n",
    "Otherwise, simply print the number"
   ]
  },
  {
   "cell_type": "code",
   "execution_count": 1,
   "metadata": {},
   "outputs": [
    {
     "name": "stdout",
     "output_type": "stream",
     "text": [
      "1\n",
      "2\n",
      "Fizz\n",
      "4\n",
      "Buzz\n",
      "Fizz\n",
      "7\n",
      "8\n",
      "Fizz\n",
      "Buzz\n",
      "11\n",
      "Fizz\n",
      "13\n",
      "14\n",
      "FizzBuzz\n",
      "16\n",
      "17\n",
      "Fizz\n",
      "19\n",
      "Buzz\n",
      "Fizz\n",
      "22\n",
      "23\n",
      "Fizz\n",
      "Buzz\n",
      "26\n",
      "Fizz\n",
      "28\n",
      "29\n"
     ]
    }
   ],
   "source": [
    "#input:Integer\n",
    "#output:string ,integer\n",
    "#steps: for loop with range, if-else\n",
    "\n",
    "def fizz_buzz(n):\n",
    "    for elements in range(1,n+1):\n",
    "        if elements%3==0 and elements%5==0:\n",
    "            print(\"FizzBuzz\")\n",
    "        elif elements%3==0:\n",
    "            print(\"Fizz\")\n",
    "        elif elements %5==0:\n",
    "            print (\"Buzz\")\n",
    "        else:\n",
    "            print(elements)\n",
    "     \n",
    "\n",
    "fizz_buzz(29)"
   ]
  }
 ],
 "metadata": {
  "interpreter": {
   "hash": "b93b91927d7b2753ebe242aa7dfcdfef91881393d8b926ec2ce01874b09d686e"
  },
  "kernelspec": {
   "display_name": "Python 3.9.7 64-bit",
   "language": "python",
   "name": "python3"
  },
  "language_info": {
   "codemirror_mode": {
    "name": "ipython",
    "version": 3
   },
   "file_extension": ".py",
   "mimetype": "text/x-python",
   "name": "python",
   "nbconvert_exporter": "python",
   "pygments_lexer": "ipython3",
   "version": "3.9.7"
  },
  "orig_nbformat": 4
 },
 "nbformat": 4,
 "nbformat_minor": 2
}
