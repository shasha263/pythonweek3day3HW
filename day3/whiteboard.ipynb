{
 "cells": [
  {
   "cell_type": "markdown",
   "metadata": {},
   "source": [
    "Create a function that given a string as a parameter of upper/lower case letters and empty space characters (“ “), return the length of the last word. Meaning, the word that appears far most to the right if we loop through the words.\n",
    "Example Input: “Hello World”\n",
    "Example Output: 5"
   ]
  },
  {
   "cell_type": "code",
   "execution_count": 15,
   "metadata": {},
   "outputs": [
    {
     "name": "stdout",
     "output_type": "stream",
     "text": [
      "['My', 'name', 'is', 'Shaharima']\n",
      "['M', 'y', ' ', 'n', 'a', 'm', 'e', ' ', 'i', 's', ' ', 'S', 'h', 'a', 'h', 'a', 'r', 'i', 'm', 'a']\n",
      "9\n"
     ]
    }
   ],
   "source": [
    "#input:string\n",
    "#output:integer\n",
    "#Steps: \n",
    "# \n",
    "def str_(abc):\n",
    "    new_list= list(abc.split(\" \")) #separate by the word\n",
    "    new_list1=list(abc) #separate by the letter\n",
    "\n",
    "    print(new_list)\n",
    "    print(new_list1)\n",
    "   \n",
    "    len_list= len(new_list[-1])      \n",
    "    print(len_list)\n",
    "\n",
    "str_(\"My name is Shaharima\")\n",
    "\n"
   ]
  }
 ],
 "metadata": {
  "interpreter": {
   "hash": "b93b91927d7b2753ebe242aa7dfcdfef91881393d8b926ec2ce01874b09d686e"
  },
  "kernelspec": {
   "display_name": "Python 3.9.7 64-bit",
   "language": "python",
   "name": "python3"
  },
  "language_info": {
   "codemirror_mode": {
    "name": "ipython",
    "version": 3
   },
   "file_extension": ".py",
   "mimetype": "text/x-python",
   "name": "python",
   "nbconvert_exporter": "python",
   "pygments_lexer": "ipython3",
   "version": "3.9.7"
  },
  "orig_nbformat": 4
 },
 "nbformat": 4,
 "nbformat_minor": 2
}
